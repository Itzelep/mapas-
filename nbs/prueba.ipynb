{
 "cells": [
  {
   "cell_type": "markdown",
   "id": "451ed81a-f937-43ef-8002-678d8cadbb76",
   "metadata": {},
   "source": [
    "# EJEMPLO DEL SUMADOR "
   ]
  },
  {
   "cell_type": "code",
   "execution_count": null,
   "id": "50034179-25fe-4b91-a488-eff7098fb1f0",
   "metadata": {},
   "outputs": [
    {
     "name": "stdout",
     "output_type": "stream",
     "text": [
      "La suma de los números es: 15\n"
     ]
    }
   ],
   "source": [
    "import importlib.util\n",
    "\n",
    "from importlib.machinery import SourceFileLoader\n",
    "core = SourceFileLoader(\"core\",r\"C:\\Users\\UFD\\mapas-\\mapas\\core.py\").load_module()\n",
    "\n",
    "from core import sumar_numeros\n"
   ]
  },
  {
   "cell_type": "code",
   "execution_count": null,
   "id": "1727c0d0-ad57-4256-a3c9-76df895594d9",
   "metadata": {},
   "outputs": [
    {
     "name": "stdout",
     "output_type": "stream",
     "text": [
      "La suma de los números es: 35\n"
     ]
    }
   ],
   "source": [
    "numeros = [1, 2, 3, 4, 5,20]\n",
    "resultado = sumar_numeros(*numeros)\n",
    "print(\"La suma de los números es:\", resultado)"
   ]
  },
  {
   "cell_type": "code",
   "execution_count": null,
   "id": "3f74d7d8-b439-420c-b123-2609af2cac08",
   "metadata": {},
   "outputs": [],
   "source": []
  }
 ],
 "metadata": {
  "kernelspec": {
   "display_name": "python3",
   "language": "python",
   "name": "python3"
  }
 },
 "nbformat": 4,
 "nbformat_minor": 5
}
