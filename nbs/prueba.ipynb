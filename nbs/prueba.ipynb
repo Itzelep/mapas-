{
 "cells": [
  {
   "cell_type": "markdown",
   "id": "451ed81a-f937-43ef-8002-678d8cadbb76",
   "metadata": {},
   "source": [
    "# EJEMPLO DEL SUMADOR "
   ]
  },
  {
   "cell_type": "code",
   "execution_count": null,
   "id": "50034179-25fe-4b91-a488-eff7098fb1f0",
   "metadata": {},
   "outputs": [
    {
     "ename": "ImportError",
     "evalue": "cannot import name 'PrecipitacionMap' from 'core' (C:\\Users\\UFD\\mapas-\\mapas\\core.py)",
     "output_type": "error",
     "traceback": [
      "\u001b[1;31m---------------------------------------------------------------------------\u001b[0m",
      "\u001b[1;31mImportError\u001b[0m                               Traceback (most recent call last)",
      "Cell \u001b[1;32mIn[1], line 8\u001b[0m\n\u001b[0;32m      5\u001b[0m \u001b[38;5;28;01mfrom\u001b[39;00m \u001b[38;5;21;01mimportlib\u001b[39;00m\u001b[38;5;21;01m.\u001b[39;00m\u001b[38;5;21;01mmachinery\u001b[39;00m \u001b[38;5;28;01mimport\u001b[39;00m SourceFileLoader\n\u001b[0;32m      6\u001b[0m core \u001b[38;5;241m=\u001b[39m SourceFileLoader(\u001b[38;5;124m\"\u001b[39m\u001b[38;5;124mcore\u001b[39m\u001b[38;5;124m\"\u001b[39m,\u001b[38;5;124mr\u001b[39m\u001b[38;5;124m\"\u001b[39m\u001b[38;5;124mC:\u001b[39m\u001b[38;5;124m\\\u001b[39m\u001b[38;5;124mUsers\u001b[39m\u001b[38;5;124m\\\u001b[39m\u001b[38;5;124mUFD\u001b[39m\u001b[38;5;124m\\\u001b[39m\u001b[38;5;124mmapas-\u001b[39m\u001b[38;5;124m\\\u001b[39m\u001b[38;5;124mmapas\u001b[39m\u001b[38;5;124m\\\u001b[39m\u001b[38;5;124mcore.py\u001b[39m\u001b[38;5;124m\"\u001b[39m)\u001b[38;5;241m.\u001b[39mload_module()\n\u001b[1;32m----> 8\u001b[0m \u001b[38;5;28;01mfrom\u001b[39;00m \u001b[38;5;21;01mcore\u001b[39;00m \u001b[38;5;28;01mimport\u001b[39;00m PrecipitacionMap, generate_fake_precipitation_data\n",
      "\u001b[1;31mImportError\u001b[0m: cannot import name 'PrecipitacionMap' from 'core' (C:\\Users\\UFD\\mapas-\\mapas\\core.py)"
     ]
    }
   ],
   "source": [
    "import numpy as np\n",
    "import importlib.util\n",
    "\n",
    "\n",
    "from importlib.machinery import SourceFileLoader\n",
    "core = SourceFileLoader(\"core\",r\"C:\\Users\\UFD\\mapas-\\mapas\\core.py\").load_module()\n",
    "\n",
    "from core import PrecipitacionMap, generate_fake_precipitation_data\n"
   ]
  },
  {
   "cell_type": "code",
   "execution_count": null,
   "id": "3f74d7d8-b439-420c-b123-2609af2cac08",
   "metadata": {},
   "outputs": [],
   "source": [
    "def example_usage():\n",
    "    start_year = int(input(\"Ingrese el año inicial (2000-2023): \"))\n",
    "    end_year = int(input(\"Ingrese el año final (2000-2023): \"))\n",
    "    \n",
    "    if start_year < 2000 or end_year > 2023 or start_year > end_year:\n",
    "        print(\"Años fuera de rango o incorrectos.\")\n",
    "        return\n",
    "    \n",
    "    years = list(range(start_year, end_year + 1))\n",
    "    data = generate_fake_precipitation_data(start_year, end_year)\n",
    "    precip_map = PrecipitationMap(data, years)\n",
    "    precip_map.plot(title='Worldwide Precipitation Map')\n",
    "\n",
    "# Ejecutar la función de ejemplo\n",
    "example_usage()"
   ]
  },
  {
   "cell_type": "code",
   "execution_count": null,
   "id": "75359565-17aa-4569-bf77-79215ca68afb",
   "metadata": {},
   "outputs": [],
   "source": []
  }
 ],
 "metadata": {
  "kernelspec": {
   "display_name": "python3",
   "language": "python",
   "name": "python3"
  }
 },
 "nbformat": 4,
 "nbformat_minor": 5
}
