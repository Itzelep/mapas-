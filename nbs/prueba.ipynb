{
 "cells": [
  {
   "cell_type": "markdown",
   "id": "451ed81a-f937-43ef-8002-678d8cadbb76",
   "metadata": {},
   "source": [
    "# Operaciones basicas"
   ]
  },
  {
   "cell_type": "code",
   "execution_count": null,
   "id": "523c5b41-b0b4-426a-b4bb-3e023e34f020",
   "metadata": {},
   "outputs": [],
   "source": [
    "#| default_exp prueba"
   ]
  },
  {
   "cell_type": "code",
   "execution_count": null,
   "id": "50034179-25fe-4b91-a488-eff7098fb1f0",
   "metadata": {},
   "outputs": [],
   "source": [
    "#| export\n",
    "#| hide\n",
    "import numpy as np\n",
    "import importlib.util\n",
    "\n",
    "\n",
    "from importlib.machinery import SourceFileLoader\n",
    "core = SourceFileLoader(\"core\",\"/Users/nightmare/mapas-/mapas/core.py\").load_module()\n",
    "\n",
    "from core import suma,resta,multiplicacion,division\n"
   ]
  },
  {
   "cell_type": "code",
   "execution_count": null,
   "id": "75359565-17aa-4569-bf77-79215ca68afb",
   "metadata": {},
   "outputs": [
    {
     "name": "stdout",
     "output_type": "stream",
     "text": [
      "Suma: 8\n",
      "Resta: 6\n",
      "Multiplicación: 42\n",
      "División: 5.0\n"
     ]
    }
   ],
   "source": [
    "print(\"Suma:\", suma(5, 3))\n",
    "print(\"Resta:\", resta(10, 4))\n",
    "print(\"Multiplicación:\", multiplicacion(6, 7))\n",
    "print(\"División:\", division(15, 3))"
   ]
  },
  {
   "cell_type": "code",
   "execution_count": null,
   "id": "be13163a-30d8-47dc-b908-6e1526d0654c",
   "metadata": {},
   "outputs": [],
   "source": []
  }
 ],
 "metadata": {
  "kernelspec": {
   "display_name": "python3",
   "language": "python",
   "name": "python3"
  }
 },
 "nbformat": 4,
 "nbformat_minor": 5
}
