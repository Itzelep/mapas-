{
 "cells": [
  {
   "cell_type": "markdown",
   "metadata": {},
   "source": [
    "# lIBRERIA\n",
    "\n",
    "> lIBRERIA PARA HACER MAPA"
   ]
  },
  {
   "cell_type": "code",
   "execution_count": null,
   "metadata": {},
   "outputs": [],
   "source": [
    "#| default_exp core"
   ]
  },
  {
   "cell_type": "code",
   "execution_count": null,
   "metadata": {},
   "outputs": [],
   "source": [
    "#| hide\n",
    "import nbdev; nbdev.nbdev_export()"
   ]
  },
  {
   "cell_type": "code",
   "execution_count": null,
   "metadata": {},
   "outputs": [],
   "source": [
    "# Contenido del archivo map_precipitation.py\n",
    "#| export\n",
    "import numpy as np\n",
    "import matplotlib.pyplot as plt\n",
    "import cartopy.crs as ccrs\n",
    "import cartopy.feature as cfeature\n",
    "\n",
    "class PrecipitationMap:\n",
    "    def __init__(self, data, years):\n",
    "        self.data = np.array(data)\n",
    "        self.years = years\n",
    "\n",
    "    def plot(self, title='Precipitation Map', cmap='Blues'):\n",
    "        fig = plt.figure(figsize=(10, 8))\n",
    "        \n",
    "        # Definir la proyección y agregar características del mapa\n",
    "        ax = fig.add_subplot(1, 1, 1, projection=ccrs.PlateCarree())\n",
    "        ax.coastlines(resolution='50m', linewidth=1)\n",
    "        ax.add_feature(cfeature.BORDERS, linewidth=0.5, linestyle=':')\n",
    "        ax.add_feature(cfeature.LAND, facecolor='lightgray')\n",
    "        ax.add_feature(cfeature.OCEAN, facecolor='lightblue')\n",
    "        \n",
    "        # Mostrar los datos de precipitación para los años seleccionados\n",
    "        for year_idx in range(self.data.shape[0]):\n",
    "            im = ax.imshow(self.data[year_idx], origin='upper', extent=[-180, 180, -90, 90],\n",
    "                           transform=ccrs.PlateCarree(), cmap=cmap, alpha=0.5)\n",
    "        \n",
    "        # Configuración de título y etiquetas\n",
    "        plt.title(f'{title} ({self.years[0]} - {self.years[-1]})')\n",
    "        ax.set_xlabel('Longitude')\n",
    "        ax.set_ylabel('Latitude')\n",
    "        \n",
    "        # Añadir barra de color solo una vez\n",
    "        plt.colorbar(im, ax=ax, label='Precipitation (mm)')\n",
    "        \n",
    "        plt.tight_layout()\n",
    "        plt.show()\n",
    "\n",
    "def generate_fake_precipitation_data(start_year, end_year):\n",
    "    # Generar datos simulados de precipitación para los años especificados\n",
    "    num_years = end_year - start_year + 1\n",
    "    data = np.random.rand(num_years, 180, 360) * 100  # Datos de precipitación aleatorios para todo el mundo\n",
    "    return data\n"
   ]
  },
  {
   "cell_type": "code",
   "execution_count": null,
   "metadata": {},
   "outputs": [],
   "source": []
  }
 ],
 "metadata": {
  "kernelspec": {
   "display_name": "python3",
   "language": "python",
   "name": "python3"
  }
 },
 "nbformat": 4,
 "nbformat_minor": 4
}
